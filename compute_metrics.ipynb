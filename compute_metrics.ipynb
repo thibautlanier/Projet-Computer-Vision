{
 "cells": [
  {
   "cell_type": "code",
   "execution_count": 1,
   "metadata": {},
   "outputs": [
    {
     "name": "stdout",
     "output_type": "stream",
     "text": [
      "device used : cuda\n"
     ]
    }
   ],
   "source": [
    "from src.Metrics import batch_metrics\n",
    "from src.Models import NetworkColor, load_model\n",
    "from src.Datasets import CocoDataset\n",
    "from torch.utils.data import DataLoader\n",
    "from torchvision.transforms import v2\n",
    "from skimage import color\n",
    "from tqdm import tqdm\n",
    "import torch\n",
    "device = torch.device(\"cuda\" if torch.cuda.is_available() else \"cpu\")\n",
    "print(f\"device used : {device}\")"
   ]
  },
  {
   "cell_type": "code",
   "execution_count": 2,
   "metadata": {},
   "outputs": [
    {
     "data": {
      "text/plain": [
       "NetworkColor(\n",
       "  (conv1): Sequential(\n",
       "    (0): Conv2d(1, 32, kernel_size=(4, 4), stride=(2, 2), padding=(1, 1))\n",
       "    (1): BatchNorm2d(32, eps=1e-05, momentum=0.1, affine=True, track_running_stats=True)\n",
       "    (2): ReLU()\n",
       "  )\n",
       "  (conv2): Sequential(\n",
       "    (0): Conv2d(32, 64, kernel_size=(4, 4), stride=(2, 2), padding=(1, 1))\n",
       "    (1): BatchNorm2d(64, eps=1e-05, momentum=0.1, affine=True, track_running_stats=True)\n",
       "    (2): ReLU()\n",
       "  )\n",
       "  (conv3): Sequential(\n",
       "    (0): Conv2d(64, 128, kernel_size=(4, 4), stride=(2, 2), padding=(1, 1))\n",
       "    (1): BatchNorm2d(128, eps=1e-05, momentum=0.1, affine=True, track_running_stats=True)\n",
       "    (2): ReLU()\n",
       "  )\n",
       "  (conv4): Sequential(\n",
       "    (0): Conv2d(128, 256, kernel_size=(4, 4), stride=(2, 2), padding=(1, 1))\n",
       "    (1): BatchNorm2d(256, eps=1e-05, momentum=0.1, affine=True, track_running_stats=True)\n",
       "    (2): ReLU()\n",
       "  )\n",
       "  (conv5): Sequential(\n",
       "    (0): Conv2d(256, 256, kernel_size=(4, 4), stride=(1, 1), padding=(3, 3), dilation=(2, 2))\n",
       "    (1): BatchNorm2d(256, eps=1e-05, momentum=0.1, affine=True, track_running_stats=True)\n",
       "    (2): ReLU()\n",
       "  )\n",
       "  (conv6): Sequential(\n",
       "    (0): Conv2d(256, 256, kernel_size=(4, 4), stride=(1, 1), padding=(3, 3), dilation=(2, 2))\n",
       "    (1): BatchNorm2d(256, eps=1e-05, momentum=0.1, affine=True, track_running_stats=True)\n",
       "    (2): ReLU()\n",
       "  )\n",
       "  (t_conv1): Sequential(\n",
       "    (0): ConvTranspose2d(256, 128, kernel_size=(4, 4), stride=(2, 2), padding=(1, 1))\n",
       "    (1): BatchNorm2d(128, eps=1e-05, momentum=0.1, affine=True, track_running_stats=True)\n",
       "    (2): ReLU()\n",
       "  )\n",
       "  (t_conv2): Sequential(\n",
       "    (0): ConvTranspose2d(256, 64, kernel_size=(4, 4), stride=(2, 2), padding=(1, 1))\n",
       "    (1): BatchNorm2d(64, eps=1e-05, momentum=0.1, affine=True, track_running_stats=True)\n",
       "    (2): ReLU()\n",
       "  )\n",
       "  (t_conv3): Sequential(\n",
       "    (0): ConvTranspose2d(128, 32, kernel_size=(4, 4), stride=(2, 2), padding=(1, 1))\n",
       "    (1): BatchNorm2d(32, eps=1e-05, momentum=0.1, affine=True, track_running_stats=True)\n",
       "    (2): ReLU()\n",
       "  )\n",
       "  (t_conv4): ConvTranspose2d(64, 2, kernel_size=(4, 4), stride=(2, 2), padding=(1, 1))\n",
       "  (output): Conv2d(3, 2, kernel_size=(3, 3), stride=(1, 1), padding=(1, 1))\n",
       ")"
      ]
     },
     "execution_count": 2,
     "metadata": {},
     "output_type": "execute_result"
    }
   ],
   "source": [
    "model = NetworkColor().to(device)\n",
    "load_model(model, \"models/NetworkColor.pt\")"
   ]
  },
  {
   "cell_type": "code",
   "execution_count": 3,
   "metadata": {},
   "outputs": [],
   "source": [
    "root_dir = \"./ressources\"\n",
    "\n",
    "transform = v2.Compose([\n",
    "\tcolor.rgb2lab,\n",
    "\tv2.ToImage(),\n",
    "\tv2.ToDtype(torch.float32),\n",
    "\tv2.Resize((128,128), antialias=True),\n",
    "\tv2.Normalize(((-126.,-126.,0.)), ((256.,256.,100.)))\n",
    "])\n",
    "\n",
    "UnNormalize = v2.Compose([\n",
    "\tv2.Normalize((0.,0.,0.), (1/256.,1/256.,1/100.)),\n",
    "\tv2.Normalize((126.,126.,0.), (1.,1.,1.))\n",
    "])\n",
    "\n",
    "train_dataset = CocoDataset(root=root_dir, split=\"train\", transform=transform)\n",
    "test_dataset = CocoDataset(root=root_dir, split=\"test\", transform=transform)\n",
    "\n",
    "batch_size = 256\n",
    "\n",
    "train_loader = DataLoader(train_dataset, batch_size=batch_size, shuffle=True)\n",
    "test_loader = DataLoader(test_dataset, batch_size=batch_size, shuffle=True)"
   ]
  },
  {
   "cell_type": "code",
   "execution_count": 4,
   "metadata": {},
   "outputs": [
    {
     "name": "stdout",
     "output_type": "stream",
     "text": [
      "(1, 128, 128) (3, 128, 128)\n",
      "inf\n",
      "1.0\n"
     ]
    },
    {
     "name": "stderr",
     "output_type": "stream",
     "text": [
      "/home/mmarzloff/Travail/computer_vision/Projet/.venv/lib/python3.11/site-packages/skimage/metrics/simple_metrics.py:163: RuntimeWarning: divide by zero encountered in scalar divide\n",
      "  return 10 * np.log10((data_range ** 2) / err)\n"
     ]
    }
   ],
   "source": [
    "from src.Metrics import compute_psnr, compute_ssim\n",
    "\n",
    "img1, img2 = train_dataset[0]\n",
    "img1, img2 = img1.numpy(), img2.numpy()\n",
    "print(img1.shape, img2.shape)\n",
    "print(compute_psnr(img2, img2))\n",
    "print(compute_ssim(img2, img2))"
   ]
  },
  {
   "cell_type": "code",
   "execution_count": 5,
   "metadata": {},
   "outputs": [],
   "source": [
    "def metrics_loop(dataloader, model, metric = \"PSNR\"):\n",
    "\tsize = len(dataloader.dataset)\n",
    "\tmodel = model.to(device)\n",
    "\tmodel.eval()\n",
    "\ttotal = 0\n",
    "\twith torch.no_grad():\n",
    "\t\tfor X, y in tqdm(dataloader, desc=metric):\n",
    "\t\t\ttotal += batch_metrics(model, X, y, device, metric)\n",
    "\treturn total / size"
   ]
  },
  {
   "cell_type": "code",
   "execution_count": 6,
   "metadata": {},
   "outputs": [
    {
     "name": "stderr",
     "output_type": "stream",
     "text": [
      "PSNR: 100%|██████████| 159/159 [35:00<00:00, 13.21s/it]\n",
      "SSIM: 100%|██████████| 159/159 [30:37<00:00, 11.56s/it]\n",
      "PSNR: 100%|██████████| 20/20 [03:33<00:00, 10.67s/it]\n",
      "SSIM: 100%|██████████| 20/20 [03:42<00:00, 11.13s/it]"
     ]
    },
    {
     "name": "stdout",
     "output_type": "stream",
     "text": [
      "PSNR train : 18.63436775506013\n",
      "PSNR test : 18.294813294765916\n",
      "SSIM train : 0.6264226610497289\n",
      "SSIM test : 0.6245758330464363\n"
     ]
    },
    {
     "name": "stderr",
     "output_type": "stream",
     "text": [
      "\n"
     ]
    }
   ],
   "source": [
    "# Compute metrics\n",
    "PSNR_train = metrics_loop(train_loader, model, metric=\"PSNR\")\n",
    "SSIM_train = metrics_loop(train_loader, model, metric=\"SSIM\")\n",
    "PSNR_test = metrics_loop(test_loader, model, metric=\"PSNR\")\n",
    "SSIM_test = metrics_loop(test_loader, model, metric=\"SSIM\")\n",
    "\n",
    "print(f\"PSNR train : {PSNR_train}\")\n",
    "print(f\"PSNR test : {PSNR_test}\")\n",
    "print(f\"SSIM train : {SSIM_train}\")\n",
    "print(f\"SSIM test : {SSIM_test}\")\n"
   ]
  },
  {
   "cell_type": "code",
   "execution_count": 10,
   "metadata": {},
   "outputs": [
    {
     "data": {
      "image/png": "[encoded data removed]",
      "text/plain": [
       "<Figure size 640x480 with 1 Axes>"
      ]
     },
     "metadata": {},
     "output_type": "display_data"
    },
    {
     "data": {
      "image/png": "[encoded data removed]",
      "text/plain": [
       "<Figure size 640x480 with 1 Axes>"
      ]
     },
     "metadata": {},
     "output_type": "display_data"
    }
   ],
   "source": [
    "import matplotlib.pyplot as plt\n",
    "\n",
    "plt.bar([\"PSNR train\", \"PSNR test\"], [SSIM_train, SSIM_test])\n",
    "plt.tight_layout()\n",
    "plt.figure()\n",
    "plt.bar([\"SSIM train\", \"SSIM test\"], [SSIM_train, SSIM_test])\n",
    "plt.tight_layout()"
   ]
  }
 ],
 "metadata": {
  "kernelspec": {
   "display_name": ".venv",
   "language": "python",
   "name": "python3"
  },
  "language_info": {
   "codemirror_mode": {
    "name": "ipython",
    "version": 3
   },
   "file_extension": ".py",
   "mimetype": "text/x-python",
   "name": "python",
   "nbconvert_exporter": "python",
   "pygments_lexer": "ipython3",
   "version": "3.11.6"
  }
 },
 "nbformat": 4,
 "nbformat_minor": 2
}
