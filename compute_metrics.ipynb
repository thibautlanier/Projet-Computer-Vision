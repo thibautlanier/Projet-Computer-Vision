{
 "cells": [
  {
   "cell_type": "code",
   "execution_count": 1,
   "metadata": {},
   "outputs": [
    {
     "name": "stdout",
     "output_type": "stream",
     "text": [
      "device used : cuda\n"
     ]
    }
   ],
   "source": [
    "from src.Metrics import batch_metrics\n",
    "from src.Models import NetworkColor, load_model\n",
    "from src.Datasets import CocoDataset\n",
    "from torch.utils.data import DataLoader\n",
    "from torchvision.transforms import v2\n",
    "from skimage import color\n",
    "from tqdm import tqdm\n",
    "import torch\n",
    "device = torch.device(\"cuda\" if torch.cuda.is_available() else \"cpu\")\n",
    "print(f\"device used : {device}\")"
   ]
  },
  {
   "cell_type": "code",
   "execution_count": 2,
   "metadata": {},
   "outputs": [
    {
     "data": {
      "text/plain": [
       "NetworkColor(\n",
       "  (conv1): Sequential(\n",
       "    (0): Conv2d(1, 32, kernel_size=(4, 4), stride=(2, 2), padding=(1, 1))\n",
       "    (1): BatchNorm2d(32, eps=1e-05, momentum=0.1, affine=True, track_running_stats=True)\n",
       "    (2): ReLU()\n",
       "  )\n",
       "  (conv2): Sequential(\n",
       "    (0): Conv2d(32, 64, kernel_size=(4, 4), stride=(2, 2), padding=(1, 1))\n",
       "    (1): BatchNorm2d(64, eps=1e-05, momentum=0.1, affine=True, track_running_stats=True)\n",
       "    (2): ReLU()\n",
       "  )\n",
       "  (conv3): Sequential(\n",
       "    (0): Conv2d(64, 128, kernel_size=(4, 4), stride=(2, 2), padding=(1, 1))\n",
       "    (1): BatchNorm2d(128, eps=1e-05, momentum=0.1, affine=True, track_running_stats=True)\n",
       "    (2): ReLU()\n",
       "  )\n",
       "  (conv4): Sequential(\n",
       "    (0): Conv2d(128, 256, kernel_size=(4, 4), stride=(2, 2), padding=(1, 1))\n",
       "    (1): BatchNorm2d(256, eps=1e-05, momentum=0.1, affine=True, track_running_stats=True)\n",
       "    (2): ReLU()\n",
       "  )\n",
       "  (conv5): Sequential(\n",
       "    (0): Conv2d(256, 256, kernel_size=(4, 4), stride=(1, 1), padding=(3, 3), dilation=(2, 2))\n",
       "    (1): BatchNorm2d(256, eps=1e-05, momentum=0.1, affine=True, track_running_stats=True)\n",
       "    (2): ReLU()\n",
       "  )\n",
       "  (conv6): Sequential(\n",
       "    (0): Conv2d(256, 256, kernel_size=(4, 4), stride=(1, 1), padding=(3, 3), dilation=(2, 2))\n",
       "    (1): BatchNorm2d(256, eps=1e-05, momentum=0.1, affine=True, track_running_stats=True)\n",
       "    (2): ReLU()\n",
       "  )\n",
       "  (t_conv1): Sequential(\n",
       "    (0): ConvTranspose2d(256, 128, kernel_size=(4, 4), stride=(2, 2), padding=(1, 1))\n",
       "    (1): BatchNorm2d(128, eps=1e-05, momentum=0.1, affine=True, track_running_stats=True)\n",
       "    (2): ReLU()\n",
       "  )\n",
       "  (t_conv2): Sequential(\n",
       "    (0): ConvTranspose2d(256, 64, kernel_size=(4, 4), stride=(2, 2), padding=(1, 1))\n",
       "    (1): BatchNorm2d(64, eps=1e-05, momentum=0.1, affine=True, track_running_stats=True)\n",
       "    (2): ReLU()\n",
       "  )\n",
       "  (t_conv3): Sequential(\n",
       "    (0): ConvTranspose2d(128, 32, kernel_size=(4, 4), stride=(2, 2), padding=(1, 1))\n",
       "    (1): BatchNorm2d(32, eps=1e-05, momentum=0.1, affine=True, track_running_stats=True)\n",
       "    (2): ReLU()\n",
       "  )\n",
       "  (t_conv4): ConvTranspose2d(64, 2, kernel_size=(4, 4), stride=(2, 2), padding=(1, 1))\n",
       "  (output): Conv2d(3, 2, kernel_size=(3, 3), stride=(1, 1), padding=(1, 1))\n",
       ")"
      ]
     },
     "execution_count": 2,
     "metadata": {},
     "output_type": "execute_result"
    }
   ],
   "source": [
    "model = NetworkColor().to(device)\n",
    "load_model(model, \"models/NetworkColor.pt\")"
   ]
  },
  {
   "cell_type": "code",
   "execution_count": 3,
   "metadata": {},
   "outputs": [],
   "source": [
    "root_dir = \"./ressources\"\n",
    "\n",
    "transform = v2.Compose([\n",
    "\tcolor.rgb2lab,\n",
    "\tv2.ToImage(),\n",
    "\tv2.ToDtype(torch.float32),\n",
    "\tv2.Resize((128,128), antialias=True),\n",
    "\tv2.Normalize(((-126.,-126.,0.)), ((256.,256.,100.)))\n",
    "])\n",
    "\n",
    "UnNormalize = v2.Compose([\n",
    "\tv2.Normalize((0.,0.,0.), (1/256.,1/256.,1/100.)),\n",
    "\tv2.Normalize((126.,126.,0.), (1.,1.,1.))\n",
    "])\n",
    "\n",
    "train_dataset = CocoDataset(root=root_dir, split=\"train\", transform=transform)\n",
    "test_dataset = CocoDataset(root=root_dir, split=\"test\", transform=transform)\n",
    "\n",
    "batch_size = 256\n",
    "\n",
    "train_loader = DataLoader(train_dataset, batch_size=batch_size, shuffle=True)\n",
    "test_loader = DataLoader(test_dataset, batch_size=batch_size, shuffle=True)"
   ]
  },
  {
   "cell_type": "code",
   "execution_count": 4,
   "metadata": {},
   "outputs": [
    {
     "name": "stdout",
     "output_type": "stream",
     "text": [
      "(1, 128, 128) (3, 128, 128)\n",
      "58.44602971004501\n"
     ]
    }
   ],
   "source": [
    "from src.Metrics import compute_psnr\n",
    "\n",
    "img1, img2 = train_dataset[1]\n",
    "img1, img2 = img1.numpy(), img2.numpy()\n",
    "print(img1.shape, img2.shape)\n",
    "print(compute_psnr(img1, img2))"
   ]
  },
  {
   "cell_type": "code",
   "execution_count": 5,
   "metadata": {},
   "outputs": [],
   "source": [
    "def metrics_loop(dataloader, model, metric = \"PSNR\"):\n",
    "\tsize = len(dataloader.dataset)\n",
    "\tmodel = model.to(device)\n",
    "\tmodel.eval()\n",
    "\ttotal = 0\n",
    "\twith torch.no_grad():\n",
    "\t\tfor batch in tqdm(dataloader, desc=\"metrics\"):\n",
    "\t\t\ttotal += batch_metrics(model, batch, device, metric)\n",
    "\treturn total / size"
   ]
  },
  {
   "cell_type": "code",
   "execution_count": 6,
   "metadata": {},
   "outputs": [
    {
     "name": "stderr",
     "output_type": "stream",
     "text": [
      "metrics:   0%|          | 0/159 [00:11<?, ?it/s]\n"
     ]
    },
    {
     "ename": "AttributeError",
     "evalue": "'list' object has no attribute 'shape'",
     "output_type": "error",
     "traceback": [
      "\u001b[0;31m---------------------------------------------------------------------------\u001b[0m",
      "\u001b[0;31mAttributeError\u001b[0m                            Traceback (most recent call last)",
      "Cell \u001b[0;32mIn[6], line 2\u001b[0m\n\u001b[1;32m      1\u001b[0m \u001b[38;5;66;03m# Compute metrics\u001b[39;00m\n\u001b[0;32m----> 2\u001b[0m PSNR_train \u001b[38;5;241m=\u001b[39m \u001b[43mmetrics_loop\u001b[49m\u001b[43m(\u001b[49m\u001b[43mtrain_loader\u001b[49m\u001b[43m,\u001b[49m\u001b[43m \u001b[49m\u001b[43mmodel\u001b[49m\u001b[43m,\u001b[49m\u001b[43m \u001b[49m\u001b[43mmetric\u001b[49m\u001b[38;5;241;43m=\u001b[39;49m\u001b[38;5;124;43m\"\u001b[39;49m\u001b[38;5;124;43mPSNR\u001b[39;49m\u001b[38;5;124;43m\"\u001b[39;49m\u001b[43m)\u001b[49m\n\u001b[1;32m      3\u001b[0m PSNR_test \u001b[38;5;241m=\u001b[39m metrics_loop(test_loader, model, metric\u001b[38;5;241m=\u001b[39m\u001b[38;5;124m\"\u001b[39m\u001b[38;5;124mPSNR\u001b[39m\u001b[38;5;124m\"\u001b[39m)\n\u001b[1;32m      4\u001b[0m SSIM_train \u001b[38;5;241m=\u001b[39m metrics_loop(train_loader, model, metric\u001b[38;5;241m=\u001b[39m\u001b[38;5;124m\"\u001b[39m\u001b[38;5;124mSSIM\u001b[39m\u001b[38;5;124m\"\u001b[39m)\n",
      "Cell \u001b[0;32mIn[5], line 8\u001b[0m, in \u001b[0;36mmetrics_loop\u001b[0;34m(dataloader, model, metric)\u001b[0m\n\u001b[1;32m      6\u001b[0m \u001b[38;5;28;01mwith\u001b[39;00m torch\u001b[38;5;241m.\u001b[39mno_grad():\n\u001b[1;32m      7\u001b[0m \t\u001b[38;5;28;01mfor\u001b[39;00m batch \u001b[38;5;129;01min\u001b[39;00m tqdm(dataloader, desc\u001b[38;5;241m=\u001b[39m\u001b[38;5;124m\"\u001b[39m\u001b[38;5;124mmetrics\u001b[39m\u001b[38;5;124m\"\u001b[39m):\n\u001b[0;32m----> 8\u001b[0m \t\ttotal \u001b[38;5;241m+\u001b[39m\u001b[38;5;241m=\u001b[39m \u001b[43mbatch_metrics\u001b[49m\u001b[43m(\u001b[49m\u001b[43mmodel\u001b[49m\u001b[43m,\u001b[49m\u001b[43m \u001b[49m\u001b[43mbatch\u001b[49m\u001b[43m,\u001b[49m\u001b[43m \u001b[49m\u001b[43mdevice\u001b[49m\u001b[43m,\u001b[49m\u001b[43m \u001b[49m\u001b[43mmetric\u001b[49m\u001b[43m)\u001b[49m\n\u001b[1;32m      9\u001b[0m \u001b[38;5;28;01mreturn\u001b[39;00m total \u001b[38;5;241m/\u001b[39m size\n",
      "File \u001b[0;32m~/Travail/computer_vision/Projet/src/Metrics.py:23\u001b[0m, in \u001b[0;36mbatch_metrics\u001b[0;34m(model, X, y, device, metric)\u001b[0m\n\u001b[1;32m     22\u001b[0m \u001b[38;5;28;01mdef\u001b[39;00m \u001b[38;5;21mbatch_metrics\u001b[39m(model, X, y, device, metric\u001b[38;5;241m=\u001b[39m\u001b[38;5;124m\"\u001b[39m\u001b[38;5;124mPSNR\u001b[39m\u001b[38;5;124m\"\u001b[39m):\n\u001b[0;32m---> 23\u001b[0m \tbatch_size \u001b[38;5;241m=\u001b[39m \u001b[43mX\u001b[49m\u001b[38;5;241;43m.\u001b[39;49m\u001b[43mshape\u001b[49m[\u001b[38;5;241m0\u001b[39m]\n\u001b[1;32m     24\u001b[0m \tmodel \u001b[38;5;241m=\u001b[39m model\u001b[38;5;241m.\u001b[39mto(device)\n\u001b[1;32m     25\u001b[0m \tmodel\u001b[38;5;241m.\u001b[39meval()\n",
      "\u001b[0;31mAttributeError\u001b[0m: 'list' object has no attribute 'shape'"
     ]
    }
   ],
   "source": [
    "# Compute metrics\n",
    "PSNR_train = metrics_loop(train_loader, model, metric=\"PSNR\")\n",
    "PSNR_test = metrics_loop(test_loader, model, metric=\"PSNR\")\n",
    "SSIM_train = metrics_loop(train_loader, model, metric=\"SSIM\")\n",
    "SSIM_test = metrics_loop(test_loader, model, metric=\"SSIM\")\n",
    "MSE_train = metrics_loop(train_loader, model, metric=\"MSE\")\n",
    "MSE_test = metrics_loop(test_loader, model, metric=\"MSE\")\n",
    "\n",
    "print(f\"PSNR train : {PSNR_train}\")\n",
    "print(f\"PSNR test : {PSNR_test}\")\n",
    "print(f\"SSIM train : {SSIM_train}\")\n",
    "print(f\"SSIM test : {SSIM_test}\")\n",
    "print(f\"MSE train : {MSE_train}\")\n",
    "print(f\"MSE test : {MSE_test}\")\n"
   ]
  }
 ],
 "metadata": {
  "kernelspec": {
   "display_name": ".venv",
   "language": "python",
   "name": "python3"
  },
  "language_info": {
   "codemirror_mode": {
    "name": "ipython",
    "version": 3
   },
   "file_extension": ".py",
   "mimetype": "text/x-python",
   "name": "python",
   "nbconvert_exporter": "python",
   "pygments_lexer": "ipython3",
   "version": "3.11.6"
  }
 },
 "nbformat": 4,
 "nbformat_minor": 2
}
